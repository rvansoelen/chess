{
 "cells": [
  {
   "cell_type": "code",
   "execution_count": 1,
   "metadata": {},
   "outputs": [],
   "source": [
    "import tensorflow as tf\n",
    "import pickle\n",
    "import numpy as np\n",
    "from tensorflow.python.framework import ops\n",
    "import random\n",
    "from IPython.display import display, clear_output\n",
    "import sys"
   ]
  },
  {
   "cell_type": "code",
   "execution_count": 2,
   "metadata": {},
   "outputs": [],
   "source": [
    "gHidden1OutputSize = 500 #19\n",
    "pHidden1OutputSize = 500 #32\n",
    "sHidden1OutputSize = 500 #30\n",
    "hidden2OutputSize = 1\n",
    "seed = 0\n",
    "batchSize = 100\n",
    "trainingRatio = 0.9"
   ]
  },
  {
   "cell_type": "code",
   "execution_count": 3,
   "metadata": {},
   "outputs": [],
   "source": [
    "#Load the features into arrays\n",
    "inputFile = 'features.pckl'\n",
    "with open(inputFile, 'rb') as fid:\n",
    "    features = pickle.load(fid)\n",
    "random.shuffle(features)\n",
    "numSamples = len(features)\n"
   ]
  },
  {
   "cell_type": "code",
   "execution_count": 4,
   "metadata": {},
   "outputs": [],
   "source": [
    "cutIndex = int(numSamples*trainingRatio)\n",
    "trainingFeatures = features[:cutIndex]\n",
    "testFeatures = features[cutIndex:]"
   ]
  },
  {
   "cell_type": "code",
   "execution_count": 5,
   "metadata": {},
   "outputs": [],
   "source": [
    "def splitAndBatchFeatures(batchSize, features):\n",
    "    random.shuffle(features)\n",
    "    globalFeatures = np.array([feature['globalFeatures'] for feature in features], dtype='float32')\n",
    "    pieceFeatures  = np.array([feature['pieceFeatures'] for feature in features], dtype='float32')\n",
    "    squareFeatures = np.array([feature['squareFeatures'] for feature in features], dtype='float32')\n",
    "    ranks = np.array([feature['moveRankings'] for feature in features], dtype='float32')\n",
    "    labels = np.array([feature['labels'] for feature in features], dtype='float32')\n",
    "\n",
    "    globalLength= globalFeatures.shape[1]\n",
    "    pieceLength = pieceFeatures.shape[1]\n",
    "    squareLength = squareFeatures.shape[1]\n",
    "    #reshape the arrays into batches\n",
    "    numSamples = globalFeatures.shape[0]\n",
    "    goalNumSamples = numSamples - numSamples%batchSize\n",
    "    #trim samples to fit evenly into batches\n",
    "    globalFeaturesTrim = globalFeatures[:goalNumSamples, :]\n",
    "    pieceFeaturesTrim = pieceFeatures[:goalNumSamples, :]\n",
    "    squareFeaturesTrim = squareFeatures[:goalNumSamples, :]\n",
    "    ranksTrim = ranks[:goalNumSamples, :]\n",
    "    labelsTrim = labels[:goalNumSamples, :]\n",
    "\n",
    "    #reshape into batches\n",
    "    globalBatchFeed = globalFeaturesTrim.reshape(-1, batchSize, globalLength)\n",
    "    pieceBatchFeed = pieceFeaturesTrim.reshape(-1, batchSize, pieceLength)\n",
    "    squareBatchFeed = squareFeaturesTrim.reshape(-1, batchSize, squareLength)\n",
    "    rankBatchFeed = ranksTrim.reshape(-1, batchSize, 1)\n",
    "    labelBatchFeed = labelsTrim.reshape(-1, batchSize, 1)\n",
    "    \n",
    "    return globalBatchFeed, pieceBatchFeed, squareBatchFeed, rankBatchFeed, labelBatchFeed\n",
    "\n",
    "#Test\n",
    "g, p, s, r, l = splitAndBatchFeatures(batchSize, trainingFeatures)"
   ]
  },
  {
   "cell_type": "code",
   "execution_count": 6,
   "metadata": {},
   "outputs": [
    {
     "name": "stdout",
     "output_type": "stream",
     "text": [
      "(10536, 100, 19) (10536, 100, 160) (10536, 100, 144) (10536, 100, 1) (10536, 100, 1)\n"
     ]
    }
   ],
   "source": [
    "print g.shape, p.shape, s.shape, r.shape, l.shape"
   ]
  },
  {
   "cell_type": "code",
   "execution_count": 7,
   "metadata": {},
   "outputs": [
    {
     "name": "stdout",
     "output_type": "stream",
     "text": [
      "WARNING:tensorflow:From /home/rvansoelen/tensorflow_python2/local/lib/python2.7/site-packages/tensorflow/contrib/learn/python/learn/datasets/base.py:198: retry (from tensorflow.contrib.learn.python.learn.datasets.base) is deprecated and will be removed in a future version.\n",
      "Instructions for updating:\n",
      "Use the retry module or similar alternatives.\n"
     ]
    }
   ],
   "source": [
    "tf.reset_default_graph()\n",
    "\n",
    "'''globalTensor = tf.convert_to_tensor(globalFeatures, dtype=tf.float32)\n",
    "pieceTensor = tf.convert_to_tensor(pieceFeatures, dtype=tf.float32)\n",
    "squareTensor = tf.convert_to_tensor(squareFeatures, dtype=tf.float32)\n",
    "rankTensor = tf.convert_to_tensor(ranks, dtype=tf.float32)\n",
    "labelTensor = tf.convert_to_tensor(labels, dtype=tf.float32)\n",
    "\n",
    "train_input_queue = tf.train.slice_input_producer(\n",
    "                                    [globalFeatures, \n",
    "                                     pieceFeatures, \n",
    "                                     squareFeatures,\n",
    "                                     ranks,\n",
    "                                     labels],\n",
    "                                    shuffle=False)\n",
    "\n",
    "globalBatch, pieceBatch, squareBatch, rankBatch, labelBatch = tf.train.batch(\n",
    "                                    train_input_queue,\n",
    "                                    batch_size=batchSize\n",
    "                                    #,num_threads=1\n",
    "                                    )\n",
    "'''\n",
    "globalLength = 19\n",
    "pieceLength = 160\n",
    "squareLength = 144\n",
    "\n",
    "#global variables\n",
    "with tf.variable_scope('GlobalVariables'):\n",
    "    globalBatch = tf.placeholder(tf.float32, shape=(batchSize, globalLength), name='GlobalBatch')#1 bit (everything is really just floats)\n",
    "    #global hidden layer\n",
    "    gHidden1 = tf.layers.dense(globalBatch, gHidden1OutputSize, name='GlobalHiddenLayer1', activation=tf.nn.relu, kernel_initializer=tf.contrib.layers.variance_scaling_initializer(seed=seed))\n",
    "    #testWeights = tf.get_variable(\"kernel\")\n",
    "#piece-centric variables\n",
    "with tf.variable_scope('Piece-CentricVariables'):\n",
    "    pieceBatch = tf.placeholder(tf.float32, shape=(batchSize, pieceLength), name='PieceBatch')\n",
    "\n",
    "    #piece-centric hidden layer\n",
    "    pHidden1 = tf.layers.dense(pieceBatch, pHidden1OutputSize, name='Piece-CentricHiddenLayer1', activation=tf.nn.relu, kernel_initializer=tf.contrib.layers.variance_scaling_initializer(seed=seed))\n",
    "\n",
    "#square-centric variables\n",
    "with tf.variable_scope('Sqaure-CentricVariables'):\n",
    "    squareBatch = tf.placeholder(tf.float32, shape=(batchSize, squareLength), name='SquareBatch')\n",
    "    rankBatch = tf.placeholder(tf.float32, shape=(batchSize, 1), name='RankBatch')\n",
    "    squareRankBatch = tf.concat([squareBatch, rankBatch], 1)\n",
    "    #square-centric hidden layer\n",
    "    sHidden1 = tf.layers.dense(squareRankBatch, sHidden1OutputSize, name='Square-CentricHiddenLayer1', activation=tf.nn.relu, kernel_initializer=tf.contrib.layers.variance_scaling_initializer(seed=seed))\n",
    "\n",
    "input2 = tf.concat([gHidden1, pHidden1, sHidden1], 1)\n",
    "logits = tf.layers.dense(input2, hidden2OutputSize, name='HiddenLayer2', activation=tf.nn.relu, kernel_initializer=tf.contrib.layers.variance_scaling_initializer(seed=seed))\n",
    "probability = tf.nn.sigmoid(logits)\n",
    "labelBatch = tf.placeholder(tf.float32, shape=(batchSize, 1), name='LabelBatch')\n",
    "loss = tf.losses.sigmoid_cross_entropy(labelBatch, logits) #groundTruth must be of shape [batchSize, 1]\n",
    "optimizer = tf.train.AdadeltaOptimizer()\n",
    "trainer = optimizer.minimize(loss)"
   ]
  },
  {
   "cell_type": "code",
   "execution_count": 8,
   "metadata": {},
   "outputs": [
    {
     "data": {
      "text/plain": [
       "1170695"
      ]
     },
     "execution_count": 8,
     "metadata": {},
     "output_type": "execute_result"
    }
   ],
   "source": [
    "len(features)\n"
   ]
  },
  {
   "cell_type": "code",
   "execution_count": 9,
   "metadata": {},
   "outputs": [
    {
     "name": "stdout",
     "output_type": "stream",
     "text": [
      "Starting...\n",
      "Loss:  2.0078847\n",
      "Saved model at epoch 0, iteration 0\n",
      "Loss:  1.7453196\n",
      "Loss:  1.0776299\n",
      "Loss:  0.8024835\n",
      "Loss:  0.7099782\n",
      "Loss:  0.7230874\n",
      "Loss:  0.70380574\n",
      "Loss:  0.69940925\n",
      "Loss:  0.6931472\n",
      "Loss:  0.69858176\n",
      "Loss:  0.6979125\n",
      "Saved model at epoch 0, iteration 10000\n",
      "Loss:  0.6931472\n",
      "Saved model at epoch 1, iteration 0\n",
      "Loss:  0.6931472\n",
      "Loss:  0.6931472\n",
      "Loss:  0.6931472\n",
      "Loss:  0.6931472\n",
      "Loss:  0.6931472\n",
      "Loss:  0.6931472\n",
      "Loss:  0.6931472\n",
      "Loss:  0.6931472\n",
      "Loss:  0.6931472\n",
      "Loss:  0.6931472\n",
      "Saved model at epoch 1, iteration 10000\n",
      "Loss:  0.6931472\n",
      "Saved model at epoch 2, iteration 0\n",
      "Loss:  0.69492835\n",
      "Loss:  0.6931472\n",
      "Loss:  0.7018244\n",
      "Loss:  0.6931472\n",
      "Loss:  0.6931472\n",
      "Loss:  0.69381064\n",
      "Loss:  0.6931472\n",
      "Loss:  0.6931472\n",
      "Loss:  0.6999496\n",
      "Loss:  0.6931472\n",
      "Saved model at epoch 2, iteration 10000\n",
      "Loss:  0.6967023\n",
      "Saved model at epoch 3, iteration 0\n",
      "Loss:  0.6931472\n",
      "Loss:  0.6931472\n",
      "Loss:  0.6931472\n",
      "Loss:  0.6931472\n",
      "Loss:  0.6970539\n",
      "Loss:  0.6931472\n",
      "Loss:  0.6931472\n",
      "Loss:  0.6931472\n",
      "Loss:  0.6931472\n",
      "Loss:  0.6968641\n",
      "Saved model at epoch 3, iteration 10000\n",
      "Loss:  0.6931472\n",
      "Saved model at epoch 4, iteration 0\n",
      "Loss:  0.6931472\n",
      "Loss:  0.6931472\n",
      "Loss:  0.69530857\n",
      "Loss:  0.6931472\n",
      "Loss:  0.6931472\n",
      "Loss:  0.6931472\n",
      "Loss:  0.69483757\n",
      "Loss:  0.6931472\n",
      "Loss:  0.6931472\n",
      "Loss:  0.6931472\n",
      "Saved model at epoch 4, iteration 10000\n",
      "Loss:  0.6931472\n",
      "Saved model at epoch 5, iteration 0\n",
      "Loss:  0.6931472\n",
      "Loss:  0.6931472\n",
      "Loss:  0.6931472\n",
      "Loss:  0.6939791\n",
      "Loss:  0.6931472\n",
      "Loss:  0.6931472\n",
      "Loss:  0.6931472\n",
      "Loss:  0.6931472\n",
      "Loss:  0.6931472\n",
      "Loss:  0.6931472\n",
      "Saved model at epoch 5, iteration 10000\n",
      "Loss:  0.6931472\n",
      "Saved model at epoch 6, iteration 0\n",
      "Loss:  0.6948412\n",
      "Loss:  0.6931472\n",
      "Loss:  0.6931472\n",
      "Loss:  0.6931472\n",
      "Loss:  0.6931472\n",
      "Loss:  0.6931472\n",
      "Loss:  0.6931472\n",
      "Loss:  0.6931472\n",
      "Loss:  0.6931472\n",
      "Loss:  0.6931472\n",
      "Saved model at epoch 6, iteration 10000\n",
      "Loss:  0.6958132\n",
      "Saved model at epoch 7, iteration 0\n",
      "Loss:  0.6931472\n",
      "Loss:  0.6931472\n",
      "Loss:  0.6931472\n",
      "Loss:  0.6931472\n",
      "Loss:  0.6931472\n",
      "Loss:  0.6931472\n",
      "Loss:  0.6931472\n",
      "Loss:  0.6931472\n",
      "Loss:  0.6931472\n",
      "Loss:  0.6931472\n",
      "Saved model at epoch 7, iteration 10000\n",
      "Saved model at epoch 7, iteration 10535\n",
      "Done\n"
     ]
    }
   ],
   "source": [
    "print 'Starting...'\n",
    "batchesPerEpoch = float(len(features))/batchSize\n",
    "numEpochs = 1\n",
    "saveDir = '/home/rvansoelen/rbmcData/savedModels/firstRun/'\n",
    "saveFrequency = 10000\n",
    "printFrequency = 1000\n",
    "saver = tf.train.Saver()\n",
    "lastSavePath = ''\n",
    "with tf.Session(config=tf.ConfigProto(log_device_placement=True)) as sess:\n",
    "    sess.run(tf.global_variables_initializer())\n",
    "    #print sess.run( weights = tf.get_variable(\"GlobalVariable/kernel\"))\n",
    "    #coord = tf.train.Coordinator()\n",
    "    #threads = tf.train.start_queue_runners(coord=coord)\n",
    "    lossRecord = []\n",
    "    for epoch in range(8):\n",
    "        globalBatchFeed, pieceBatchFeed, squareBatchFeed, rankBatchFeed, labelBatchFeed = splitAndBatchFeatures(batchSize, trainingFeatures)\n",
    "        for i in range(globalBatchFeed.shape[0]):\n",
    "            thisLoss = sess.run((loss, trainer), \n",
    "                feed_dict={globalBatch:globalBatchFeed[i], \n",
    "                          pieceBatch:pieceBatchFeed[i], \n",
    "                          squareBatch:squareBatchFeed[i], \n",
    "                          rankBatch:rankBatchFeed[i], \n",
    "                          labelBatch:labelBatchFeed[i]\n",
    "                          })[0]\n",
    "            lossRecord.append(thisLoss)\n",
    "            if i % printFrequency == 0:\n",
    "                print 'Loss: ', thisLoss\n",
    "            if i % saveFrequency == 0:\n",
    "                path = saveDir+'model_'+str(epoch)+'_'+str(i)+'.ckpt'\n",
    "                lastSavePath = saver.save(sess, path)\n",
    "                print('Saved model at epoch %d, iteration %d' % (epoch, i))\n",
    "    path = saveDir+'model_'+str(epoch)+'_'+str(i)+'.ckpt'\n",
    "    lastSavePath = saver.save(sess, path)\n",
    "    print('Saved model at epoch %d, iteration %d' % (epoch, i))\n",
    "    print('Done')\n",
    "    #coord.request_stop()\n",
    "    #coord.join(threads)\n",
    "    #coord.request_stop()\n",
    "    #coord.join(threads)\n",
    "    '''tf.saved_model.simple_save(sess,\n",
    "            saveDir,\n",
    "            inputs={'globalFeatures': train_input_queue[0],\n",
    "                    'pieceFeatures': train_input_queue[1], \n",
    "                    'squareFeatures': train_input_queue[2],\n",
    "                    'ranks' : train_input_queue[3], \n",
    "                    'labels' : train_input_queue[4]},\n",
    "            outputs={\"probability\": probability})'''\n"
   ]
  },
  {
   "cell_type": "code",
   "execution_count": 10,
   "metadata": {},
   "outputs": [
    {
     "data": {
      "text/plain": [
       "(10536, 100, 19)"
      ]
     },
     "execution_count": 10,
     "metadata": {},
     "output_type": "execute_result"
    }
   ],
   "source": [
    "globalBatchFeed.shape"
   ]
  },
  {
   "cell_type": "code",
   "execution_count": null,
   "metadata": {},
   "outputs": [],
   "source": [
    "computeTime = 50\n",
    "def getMoveScores(engine, board):\n",
    "    moves = list(board.pseudo_legal_moves)\n",
    "    moves.append(chess.Move(0, 0))\n",
    "    scores = {}\n",
    "    for move in moves:\n",
    "        engine.ucinewgame()\n",
    "        engine.position(board)\n",
    "        try:\n",
    "            engine.go(searchmoves=[move], movetime=computeTime)[0]\n",
    "            engine.stop()\n",
    "            scores[move] = infoHandler.info['score'][1].cp\n",
    "        except chess.uci.EngineTerminatedException as e:\n",
    "            scores[move] = 0\n",
    "            #restart engine\n",
    "            engine = chess.uci.ChessEngine('stockfish')\n",
    "            engine.uci()\n",
    "            infoHandler = chess.uci.InfoHandler()\n",
    "    return scores\n",
    "    \n",
    "def benchmarkModelPredict(fenMoveSet): #list of tuples containing fen string and chess.Move\n",
    "    engine = chess.uci.ChessEngine('stockfish')\n",
    "    engine.uci()\n",
    "    infoHandler = chess.uci.InfoHandler()\n",
    "    engine.info_handlers.append(infoHandler)\n",
    "    for (fen, move) in fenMoveSet:\n",
    "        board = chess.Board(fen)\n",
    "        possibleMoves = board.pseudo_legal_moves\n",
    "        possibleMoves.append(chess.Move(0,0))\n",
    "        #get move scores\n",
    "        scores = getMoveScores(engine, board) \n",
    "        if move in scores:\n",
    "            return scores[move]/float(sum(scores.values()))\n",
    "        else:\n",
    "            return 0.0"
   ]
  },
  {
   "cell_type": "code",
   "execution_count": 18,
   "metadata": {},
   "outputs": [
    {
     "name": "stdout",
     "output_type": "stream",
     "text": [
      "INFO:tensorflow:Restoring parameters from /home/rvansoelen/rbmcData/savedModels/firstRun/model_7_10535.ckpt\n"
     ]
    }
   ],
   "source": [
    "#evaluate training data\n",
    "#repeat for baseline\n",
    "#Does something have to be disabled to stop learning??\n",
    "fp = 0\n",
    "fn = 0\n",
    "tp = 0\n",
    "tn = 0\n",
    "lossRecord = []\n",
    "predictionRecord = []\n",
    "with tf.Session() as sess:\n",
    "    # Restore variables from disk.\n",
    "    i=0\n",
    "    #path = saveDir+'model_'+str(i)+'.ckpt'\n",
    "    saver.restore(sess, lastSavePath)\n",
    "    globalBatchFeed, pieceBatchFeed, squareBatchFeed, rankBatchFeed, labelBatchFeed = splitAndBatchFeatures(batchSize, trainingFeatures)\n",
    "    for i in range(globalBatchFeed.shape[0]):\n",
    "        thisProbability, thisLoss, thisLabel = sess.run((probability, loss, labelBatch), \n",
    "            feed_dict={globalBatch:globalBatchFeed[i], \n",
    "                      pieceBatch:pieceBatchFeed[i], \n",
    "                      squareBatch:squareBatchFeed[i], \n",
    "                      rankBatch:rankBatchFeed[i], \n",
    "                      labelBatch:labelBatchFeed[i]\n",
    "                      })\n",
    "        lossRecord.append(thisLoss)\n",
    "        predictionRecord.extend([(thisProbability[index], thisLabel[index]) for index in range(batchSize)])\n",
    "\n",
    "accuracy = []\n",
    "recall = []\n",
    "precision = []\n",
    "f1 = []\n",
    "for threshold in np.linspace(0.0, 1.0, num=50):\n",
    "    fp = 0\n",
    "    fn = 0\n",
    "    tp = 0\n",
    "    tn = 0\n",
    "    for prob, label in predictionRecord:\n",
    "        fp += np.sum(np.logical_and(prob <  0.5, label >= 0.5))\n",
    "        fn += np.sum(np.logical_and(prob >= 0.5, label <  0.5))\n",
    "        tp += np.sum(np.logical_and(prob >= 0.5, label >= 0.5))\n",
    "        tn += np.sum(np.logical_and(prob <  0.5, label <  0.5))\n",
    "    accuracy.append(float(tp+tn)/(fp+fn+tp+tn))\n",
    "    recall.append(float(tp)/(tp+fn))\n",
    "    precision.append(float(tp)/tp+fp)\n",
    "    f1.append(2*recall[-1]*precision[-1]/(recall[-1]+precision[-1]))\n"
   ]
  },
  {
   "cell_type": "code",
   "execution_count": 20,
   "metadata": {},
   "outputs": [
    {
     "data": {
      "image/png": "[encoded data removed]",
      "text/plain": [
       "<Figure size 432x288 with 1 Axes>"
      ]
     },
     "metadata": {},
     "output_type": "display_data"
    },
    {
     "data": {
      "image/png": "[encoded data removed]",
      "text/plain": [
       "<Figure size 432x288 with 1 Axes>"
      ]
     },
     "metadata": {},
     "output_type": "display_data"
    },
    {
     "data": {
      "image/png": "[encoded data removed]",
      "text/plain": [
       "<Figure size 432x288 with 1 Axes>"
      ]
     },
     "metadata": {},
     "output_type": "display_data"
    }
   ],
   "source": [
    "%matplotlib inline\n",
    "import matplotlib.pyplot as plt\n",
    "plt.plot(accuracy)\n",
    "plt.title('Accuracy')\n",
    "plt.show()\n",
    "plt.plot(f1)\n",
    "plt.title('F1 Score')\n",
    "plt.show()\n",
    "plt.plot(precision, recall)\n",
    "plt.title('ROC Curve')\n",
    "plt.ylabel('Recall')\n",
    "plt.xlabel('Precision')\n",
    "plt.show()"
   ]
  },
  {
   "cell_type": "code",
   "execution_count": 31,
   "metadata": {},
   "outputs": [
    {
     "data": {
      "text/plain": [
       "32065.0"
      ]
     },
     "execution_count": 31,
     "metadata": {},
     "output_type": "execute_result"
    }
   ],
   "source": [
    "np.sum(labelBatchFeed)"
   ]
  },
  {
   "cell_type": "code",
   "execution_count": 32,
   "metadata": {},
   "outputs": [
    {
     "data": {
      "text/plain": [
       "(10536, 100, 1)"
      ]
     },
     "execution_count": 32,
     "metadata": {},
     "output_type": "execute_result"
    }
   ],
   "source": [
    "labelBatchFeed.shape"
   ]
  },
  {
   "cell_type": "code",
   "execution_count": 33,
   "metadata": {},
   "outputs": [
    {
     "data": {
      "text/plain": [
       "0.030433750949126804"
      ]
     },
     "execution_count": 33,
     "metadata": {},
     "output_type": "execute_result"
    }
   ],
   "source": [
    "32065/(10536*100.0)"
   ]
  },
  {
   "cell_type": "code",
   "execution_count": null,
   "metadata": {},
   "outputs": [],
   "source": [
    "#calculate best move ranking frequency for NN\n",
    "\n",
    "#for each fen\n",
    "\n",
    "#get features from fen (one sample for each move from fen)\n",
    "\n",
    "#batch features, padding batches with zeros (use batch size of one if possib;e)\n",
    "\n",
    "#start session and evaluate batches"
   ]
  }
 ],
 "metadata": {
  "kernelspec": {
   "display_name": "Python 2",
   "language": "python",
   "name": "python2"
  },
  "language_info": {
   "codemirror_mode": {
    "name": "ipython",
    "version": 2
   },
   "file_extension": ".py",
   "mimetype": "text/x-python",
   "name": "python",
   "nbconvert_exporter": "python",
   "pygments_lexer": "ipython2",
   "version": "2.7.14"
  }
 },
 "nbformat": 4,
 "nbformat_minor": 2
}
