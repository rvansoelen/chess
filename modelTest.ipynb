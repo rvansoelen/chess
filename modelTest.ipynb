{
 "cells": [
  {
   "cell_type": "code",
   "execution_count": 1,
   "metadata": {
    "collapsed": true,
    "deletable": true,
    "editable": true
   },
   "outputs": [],
   "source": [
    "import tensorflow as tf"
   ]
  },
  {
   "cell_type": "code",
   "execution_count": 100,
   "metadata": {
    "collapsed": true,
    "deletable": true,
    "editable": true
   },
   "outputs": [],
   "source": [
    "gHidden1OutputSize = 1\n",
    "pHidden1OutputSize = 50\n",
    "sHidden1OutputSize = 50\n",
    "hidden2OutputSize = 50\n",
    "seed = 0"
   ]
  },
  {
   "cell_type": "code",
   "execution_count": 101,
   "metadata": {
    "collapsed": false,
    "deletable": true,
    "editable": true
   },
   "outputs": [],
   "source": [
    "tf.reset_default_graph()\n",
    "#global variables\n",
    "with tf.variable_scope('GlobalVariables'):\n",
    "    side2move = tf.placeholder(tf.float32, shape=[None, 1], name='Side2Move')#1 bit (everything is really just floats)\n",
    "    castlingRights = tf.placeholder(tf.float32, shape=[None, 4], name='CastlingRights')#4 bits\n",
    "    numOfEachPieceType = tf.placeholder(tf.float32, shape=[None, 10], name = 'NumOfEachPieceType')#array of 10 floats, excluding kings (should these be normalized? I think so)\n",
    "\n",
    "    globalFeats = tf.concat([side2move, castlingRights, numOfEachPieceType], 1, name='GlobalFeatures')\n",
    "\n",
    "    #global hidden layer\n",
    "    #gWeights1 =  self.createWeight('Weights 1')\n",
    "    #gBais1 = self.createWeight('Bias 1')\n",
    "    gHidden1 = tf.layers.dense(globalFeats, gHidden1OutputSize, name='GlobalHiddenLayer1', activation=tf.nn.relu, kernel_initializer=tf.contrib.layers.variance_scaling_initializer(seed=seed))\n",
    "    #testWeights = tf.get_variable(\"kernel\")\n",
    "#piece-centric variables\n",
    "with tf.variable_scope('Piece-CentricVariables'):\n",
    "    pieceIsPresent = tf.placeholder(tf.float32, shape=[None, 1], name='PieceIsPresent') # array of 48 bits\n",
    "    xyPosition = tf.placeholder(tf.float32, shape=[None, 48,2], name='XYPosition') #array of 48 by 2 normalized floats (choose -1 if not present?)\n",
    "    xyPositionFlat = tf.reshape(xyPosition, shape=[-1, 48*2])\n",
    "    pieceLowValAttacker = tf.placeholder(tf.float32, shape=[None, 48, 12], name='PieceLowValAttacker') #array of 48 pieces and a one-hot vector representing 12 possible attackers\n",
    "    pieceLowValAttackerFlat = tf.reshape(pieceLowValAttacker, shape=[-1, 48*12])\n",
    "    pieceLowValDefender = tf.placeholder(tf.float32, shape=[None, 48, 12], name='PieceLowValDefender') #array of 48 pieces and a one-hot vector representing 12 possible defenders\n",
    "    pieceLowValDefenderFlat = tf.reshape(pieceLowValDefender, shape=[-1, 48*12])\n",
    "    maxTravelDistance = tf.placeholder(tf.float32, shape=[None, 14]) #array of 14 floats, normalized (one for each sliding piece)\n",
    "    movePieceType = tf.placeholder(tf.float32, shape=[None, 6]) #one hot array of size 6\n",
    "    pawnPromoType =  tf.placeholder(tf.float32, shape=[None, 7]) #one hot array of size 7 (extra spot for when there is no pawn promotion, or should the vector be zero then?)\n",
    "\n",
    "    pieceFeats = tf.concat([pieceIsPresent, xyPositionFlat, pieceLowValAttackerFlat, \n",
    "        pieceLowValDefenderFlat, maxTravelDistance, movePieceType, \n",
    "        pawnPromoType], 1, name='Piece-CentricFeatures')\n",
    "\n",
    "    #piece-centric hidden layer\n",
    "    #gWeights1 =  self.createWeight('Weights 1')\n",
    "    #gBais1 = self.createWeight('Bias 1')\n",
    "    pHidden1 = tf.layers.dense(pieceFeats, pHidden1OutputSize, name='GlobalHiddenLayer1', activation=tf.nn.relu, kernel_initializer=tf.contrib.layers.variance_scaling_initializer(seed=seed))\n",
    "\n",
    "#square-centric variables\n",
    "with tf.variable_scope('Sqaure-CentricVariables'):\n",
    "    #array of 12 by 12 squares and a one-hot vector representing 12 possible attackers\n",
    "    squareLowValAttacker = tf.placeholder(tf.float32, shape=[None, 12, 12, 12], name='SquareLowValueAttacker')\n",
    "    squareLowValAttackerFlat = tf.reshape(squareLowValAttacker, shape=[-1, 12*12*12])\n",
    "    #array of 12 by 12 squares and a one-hot vector representing 12 possible defenders\n",
    "    squareLowValDefender = tf.placeholder(tf.float32, shape=[None, 12, 12, 12], name='SquareLowValueDefender')\n",
    "    squareLowValDefenderFlat = tf.reshape(squareLowValAttacker, shape=[-1, 12*12*12])\n",
    "    #two floats (x and y)\n",
    "    moveStartingSquare = tf.placeholder(tf.float32, shape=[None, 2], name='MoveStartingSquare')\n",
    "    #two floats (x and y)\n",
    "    moveEndingSquare = tf.placeholder(tf.float32, shape=[None, 2], name='MoveEndingSquare')\n",
    "    \n",
    "    squareFeats = tf.concat([squareLowValAttackerFlat, squareLowValDefenderFlat, moveStartingSquare, moveEndingSquare], 1)\n",
    "\n",
    "    #square-centric hidden layer\n",
    "    sHidden1 = tf.layers.dense(pieceFeats, sHidden1OutputSize, name='SquareHiddenLayer1', activation=tf.nn.relu, kernel_initializer=tf.contrib.layers.variance_scaling_initializer(seed=seed))\n",
    "\n",
    "input2 = tf.concat([gHidden1, pHidden1, sHidden1], 1)\n",
    "hidden2 = tf.layers.dense(input2, hidden2OutputSize, name='HiddenLayer2', activation=tf.nn.relu, kernel_initializer=tf.contrib.layers.variance_scaling_initializer(seed=seed))\n"
   ]
  },
  {
   "cell_type": "code",
   "execution_count": 48,
   "metadata": {
    "collapsed": false,
    "deletable": true,
    "editable": true
   },
   "outputs": [
    {
     "data": {
      "text/plain": [
       "<tf.Tensor 'Sqaure-CentricVariables/concat:0' shape=(?, 3460) dtype=float32>"
      ]
     },
     "execution_count": 48,
     "metadata": {},
     "output_type": "execute_result"
    }
   ],
   "source": [
    "squareFeats"
   ]
  },
  {
   "cell_type": "code",
   "execution_count": 96,
   "metadata": {
    "collapsed": false,
    "deletable": true,
    "editable": true
   },
   "outputs": [
    {
     "name": "stdout",
     "output_type": "stream",
     "text": [
      "[[ 0.07309246]\n",
      " [ 0.3627401 ]]\n"
     ]
    }
   ],
   "source": [
    "with tf.Session() as sess:\n",
    "    sess.run(tf.global_variables_initializer())\n",
    "    #print sess.run( weights = tf.get_variable(\"GlobalVariable/kernel\"))\n",
    "    print sess.run(gHidden1, feed_dict={side2move:[[0], \n",
    "                                                   [1]], \n",
    "                                           castlingRights:[[1,1, 1, 1], \n",
    "                                                           [1,1, 1, 1]], \n",
    "                                           numOfEachPieceType:[[0, 0, 0, 1, 0, 1, 0],\n",
    "                                                               [0, 1, 0, 1, 0, 1, 0]]})"
   ]
  },
  {
   "cell_type": "code",
   "execution_count": 66,
   "metadata": {
    "collapsed": true,
    "deletable": true,
    "editable": true
   },
   "outputs": [
    {
     "data": {
      "text/plain": [
       "['OVERLOADABLE_OPERATORS',\n",
       " '__abs__',\n",
       " '__add__',\n",
       " '__and__',\n",
       " '__array_priority__',\n",
       " '__bool__',\n",
       " '__class__',\n",
       " '__delattr__',\n",
       " '__dict__',\n",
       " '__div__',\n",
       " '__doc__',\n",
       " '__eq__',\n",
       " '__floordiv__',\n",
       " '__format__',\n",
       " '__ge__',\n",
       " '__getattribute__',\n",
       " '__getitem__',\n",
       " '__gt__',\n",
       " '__hash__',\n",
       " '__init__',\n",
       " '__invert__',\n",
       " '__iter__',\n",
       " '__le__',\n",
       " '__lt__',\n",
       " '__mod__',\n",
       " '__module__',\n",
       " '__mul__',\n",
       " '__neg__',\n",
       " '__new__',\n",
       " '__nonzero__',\n",
       " '__or__',\n",
       " '__pow__',\n",
       " '__radd__',\n",
       " '__rand__',\n",
       " '__rdiv__',\n",
       " '__reduce__',\n",
       " '__reduce_ex__',\n",
       " '__repr__',\n",
       " '__rfloordiv__',\n",
       " '__rmod__',\n",
       " '__rmul__',\n",
       " '__ror__',\n",
       " '__rpow__',\n",
       " '__rsub__',\n",
       " '__rtruediv__',\n",
       " '__rxor__',\n",
       " '__setattr__',\n",
       " '__sizeof__',\n",
       " '__str__',\n",
       " '__sub__',\n",
       " '__subclasshook__',\n",
       " '__truediv__',\n",
       " '__weakref__',\n",
       " '__xor__',\n",
       " '_add_consumer',\n",
       " '_as_node_def_input',\n",
       " '_consumers',\n",
       " '_dtype',\n",
       " '_handle_dtype',\n",
       " '_handle_shape',\n",
       " '_op',\n",
       " '_override_operator',\n",
       " '_shape',\n",
       " '_shape_as_list',\n",
       " '_value_index',\n",
       " 'consumers',\n",
       " 'device',\n",
       " 'dtype',\n",
       " 'eval',\n",
       " 'get_shape',\n",
       " 'graph',\n",
       " 'name',\n",
       " 'op',\n",
       " 'set_shape',\n",
       " 'shape',\n",
       " 'value_index']"
      ]
     },
     "execution_count": 66,
     "metadata": {},
     "output_type": "execute_result"
    }
   ],
   "source": [
    "dir(gHidden1)"
   ]
  },
  {
   "cell_type": "code",
   "execution_count": 75,
   "metadata": {
    "collapsed": false,
    "deletable": true,
    "editable": true
   },
   "outputs": [
    {
     "data": {
      "text/plain": [
       "['_ControlDependenciesController',\n",
       " '__class__',\n",
       " '__delattr__',\n",
       " '__dict__',\n",
       " '__doc__',\n",
       " '__format__',\n",
       " '__getattribute__',\n",
       " '__hash__',\n",
       " '__init__',\n",
       " '__module__',\n",
       " '__new__',\n",
       " '__reduce__',\n",
       " '__reduce_ex__',\n",
       " '__repr__',\n",
       " '__setattr__',\n",
       " '__sizeof__',\n",
       " '__str__',\n",
       " '__subclasshook__',\n",
       " '__weakref__',\n",
       " '_add_function',\n",
       " '_add_op',\n",
       " '_apply_device_functions',\n",
       " '_as_graph_def',\n",
       " '_as_graph_element_locked',\n",
       " '_attr_scope',\n",
       " '_attr_scope_map',\n",
       " '_building_function',\n",
       " '_check_not_finalized',\n",
       " '_collections',\n",
       " '_colocation_stack',\n",
       " '_container',\n",
       " '_control_dependencies_for_inputs',\n",
       " '_control_dependencies_stack',\n",
       " '_control_flow_context',\n",
       " '_current_control_dependencies',\n",
       " '_default_original_op',\n",
       " '_device_function_stack',\n",
       " '_finalized',\n",
       " '_functions',\n",
       " '_get_control_flow_context',\n",
       " '_get_function',\n",
       " '_gradient_override_map',\n",
       " '_graph_def_versions',\n",
       " '_handle_deleters',\n",
       " '_handle_feeders',\n",
       " '_handle_movers',\n",
       " '_handle_readers',\n",
       " '_is_function',\n",
       " '_kernel_label_map',\n",
       " '_last_id',\n",
       " '_lock',\n",
       " '_name_stack',\n",
       " '_names_in_use',\n",
       " '_next_id',\n",
       " '_next_id_counter',\n",
       " '_nodes_by_id',\n",
       " '_nodes_by_name',\n",
       " '_op_to_kernel_label_map',\n",
       " '_original_op',\n",
       " '_pop_control_dependencies_controller',\n",
       " '_push_control_dependencies_controller',\n",
       " '_record_op_seen_by_control_dependencies',\n",
       " '_registered_ops',\n",
       " '_seed',\n",
       " '_set_control_flow_context',\n",
       " '_unfeedable_tensors',\n",
       " '_unfetchable_ops',\n",
       " '_unsafe_unfinalize',\n",
       " '_version',\n",
       " 'add_to_collection',\n",
       " 'add_to_collections',\n",
       " 'as_default',\n",
       " 'as_graph_def',\n",
       " 'as_graph_element',\n",
       " 'building_function',\n",
       " 'clear_collection',\n",
       " 'colocate_with',\n",
       " 'container',\n",
       " 'control_dependencies',\n",
       " 'create_op',\n",
       " 'device',\n",
       " 'finalize',\n",
       " 'finalized',\n",
       " 'get_all_collection_keys',\n",
       " 'get_collection',\n",
       " 'get_collection_ref',\n",
       " 'get_operation_by_name',\n",
       " 'get_operations',\n",
       " 'get_tensor_by_name',\n",
       " 'gradient_override_map',\n",
       " 'graph_def_versions',\n",
       " 'is_feedable',\n",
       " 'is_fetchable',\n",
       " 'name_scope',\n",
       " 'prevent_feeding',\n",
       " 'prevent_fetching',\n",
       " 'seed',\n",
       " 'unique_name',\n",
       " 'version']"
      ]
     },
     "execution_count": 75,
     "metadata": {},
     "output_type": "execute_result"
    }
   ],
   "source": [
    "dir(gHidden1.graph)"
   ]
  },
  {
   "cell_type": "code",
   "execution_count": 76,
   "metadata": {
    "collapsed": false,
    "deletable": true,
    "editable": true
   },
   "outputs": [
    {
     "name": "stdout",
     "output_type": "stream",
     "text": [
      "1.0.1\n"
     ]
    }
   ],
   "source": [
    "print(tf.__version__)"
   ]
  },
  {
   "cell_type": "code",
   "execution_count": null,
   "metadata": {
    "collapsed": true,
    "deletable": true,
    "editable": true
   },
   "outputs": [],
   "source": []
  }
 ],
 "metadata": {
  "kernelspec": {
   "display_name": "Python 2",
   "language": "python",
   "name": "python2"
  },
  "language_info": {
   "codemirror_mode": {
    "name": "ipython",
    "version": 2
   },
   "file_extension": ".py",
   "mimetype": "text/x-python",
   "name": "python",
   "nbconvert_exporter": "python",
   "pygments_lexer": "ipython2",
   "version": "2.7.13"
  }
 },
 "nbformat": 4,
 "nbformat_minor": 2
}
